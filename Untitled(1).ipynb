{
 "cells": [
  {
   "cell_type": "code",
   "execution_count": 1,
   "id": "c707dd05",
   "metadata": {},
   "outputs": [],
   "source": [
    "import pandas as pd\n",
    "import numpy as np\n",
    "import matplotlib.pyplot as plt\n",
    "import seaborn as sns\n",
    "import warnings\n",
    "from tqdm import tqdm\n",
    "import re\n",
    "from datetime import datetime\n",
    "from sklearn.preprocessing import OneHotEncoder\n",
    "from sklearn.preprocessing import LabelEncoder\n",
    "warnings.filterwarnings('ignore')\n",
    "plt.rcParams['font.sans-serif'] = ['SimHei']\n",
    "plt.rcParams['axes.unicode_minus'] = False \n",
    "#显示所有列\n",
    "pd.set_option('display.max_columns', None)\n",
    "#显示所有行\n",
    "pd.set_option('display.max_rows', None)\n",
    "#设置value的显示长度为100，默认为50\n",
    "pd.set_option('max_colwidth',100)"
   ]
  },
  {
   "cell_type": "code",
   "execution_count": 2,
   "id": "8b619855",
   "metadata": {},
   "outputs": [],
   "source": [
    "df=pd.read_csv('processed_data.csv')#读取预处理后的数据"
   ]
  },
  {
   "cell_type": "code",
   "execution_count": 3,
   "id": "b6ed8a30",
   "metadata": {},
   "outputs": [
    {
     "data": {
      "text/html": [
       "<div>\n",
       "<style scoped>\n",
       "    .dataframe tbody tr th:only-of-type {\n",
       "        vertical-align: middle;\n",
       "    }\n",
       "\n",
       "    .dataframe tbody tr th {\n",
       "        vertical-align: top;\n",
       "    }\n",
       "\n",
       "    .dataframe thead th {\n",
       "        text-align: right;\n",
       "    }\n",
       "</style>\n",
       "<table border=\"1\" class=\"dataframe\">\n",
       "  <thead>\n",
       "    <tr style=\"text-align: right;\">\n",
       "      <th></th>\n",
       "      <th>index</th>\n",
       "      <th>Stkcd</th>\n",
       "      <th>Reptdt</th>\n",
       "      <th>PersonID</th>\n",
       "      <th>Name</th>\n",
       "      <th>Nationality</th>\n",
       "      <th>NativePlace</th>\n",
       "      <th>NatAreaCode</th>\n",
       "      <th>BirthPlace</th>\n",
       "      <th>BirAreaCode</th>\n",
       "      <th>Gender</th>\n",
       "      <th>Age</th>\n",
       "      <th>University</th>\n",
       "      <th>Degree</th>\n",
       "      <th>Major</th>\n",
       "      <th>Profession</th>\n",
       "      <th>Resume</th>\n",
       "      <th>PaidSign</th>\n",
       "      <th>TotalSalary</th>\n",
       "      <th>Allowance</th>\n",
       "      <th>SharEnd</th>\n",
       "      <th>IsMTMT</th>\n",
       "      <th>TMTP</th>\n",
       "      <th>IsMTB</th>\n",
       "      <th>CTB</th>\n",
       "      <th>IsIdirecotr</th>\n",
       "      <th>IsDuality</th>\n",
       "      <th>Funback</th>\n",
       "      <th>OveseaBack</th>\n",
       "      <th>Academic</th>\n",
       "      <th>FinBack</th>\n",
       "      <th>IsCocurP</th>\n",
       "      <th>OtherCo</th>\n",
       "      <th>OtherCoType</th>\n",
       "      <th>Director_TotCO</th>\n",
       "      <th>Director_ListCO</th>\n",
       "      <th>Stkcd_director</th>\n",
       "      <th>IsSupervisor</th>\n",
       "      <th>Position</th>\n",
       "      <th>ServicePosition</th>\n",
       "    </tr>\n",
       "  </thead>\n",
       "  <tbody>\n",
       "    <tr>\n",
       "      <th>0</th>\n",
       "      <td>2</td>\n",
       "      <td>603158</td>\n",
       "      <td>2017-12-31</td>\n",
       "      <td>30313768</td>\n",
       "      <td>田长青</td>\n",
       "      <td>中华人民共和国</td>\n",
       "      <td>NaN</td>\n",
       "      <td>NaN</td>\n",
       "      <td>NaN</td>\n",
       "      <td>NaN</td>\n",
       "      <td>男</td>\n",
       "      <td>53.0</td>\n",
       "      <td>NaN</td>\n",
       "      <td>5.0</td>\n",
       "      <td>NaN</td>\n",
       "      <td>副教授,教师</td>\n",
       "      <td>NaN</td>\n",
       "      <td>N</td>\n",
       "      <td>20000.0</td>\n",
       "      <td>20000.0</td>\n",
       "      <td>0.0</td>\n",
       "      <td>0</td>\n",
       "      <td>NaN</td>\n",
       "      <td>0</td>\n",
       "      <td>NaN</td>\n",
       "      <td>0</td>\n",
       "      <td>0</td>\n",
       "      <td>2</td>\n",
       "      <td>3</td>\n",
       "      <td>1,2,3</td>\n",
       "      <td>99</td>\n",
       "      <td>0</td>\n",
       "      <td>NaN</td>\n",
       "      <td>NaN</td>\n",
       "      <td>0.0</td>\n",
       "      <td>0.0</td>\n",
       "      <td>NaN</td>\n",
       "      <td>0</td>\n",
       "      <td>独立董事</td>\n",
       "      <td>NaN</td>\n",
       "    </tr>\n",
       "    <tr>\n",
       "      <th>1</th>\n",
       "      <td>3</td>\n",
       "      <td>603158</td>\n",
       "      <td>2018-12-31</td>\n",
       "      <td>30313757</td>\n",
       "      <td>蒋建良</td>\n",
       "      <td>中华人民共和国</td>\n",
       "      <td>NaN</td>\n",
       "      <td>NaN</td>\n",
       "      <td>NaN</td>\n",
       "      <td>NaN</td>\n",
       "      <td>男</td>\n",
       "      <td>42.0</td>\n",
       "      <td>NaN</td>\n",
       "      <td>2.0</td>\n",
       "      <td>NaN</td>\n",
       "      <td>NaN</td>\n",
       "      <td>蒋建良，大专学历，1995年至2000年曾任职于常州市华新电气研究所、平安保险公司常州分公司、常州市银海电源设备有限公司。2000年至2009年历任管路公司产品工程师、工艺科长、开发科长、技术...</td>\n",
       "      <td>Y</td>\n",
       "      <td>274600.0</td>\n",
       "      <td>NaN</td>\n",
       "      <td>0.0</td>\n",
       "      <td>1</td>\n",
       "      <td>4.0</td>\n",
       "      <td>0</td>\n",
       "      <td>NaN</td>\n",
       "      <td>0</td>\n",
       "      <td>0</td>\n",
       "      <td>2,5,7</td>\n",
       "      <td>3</td>\n",
       "      <td>4</td>\n",
       "      <td>4</td>\n",
       "      <td>0</td>\n",
       "      <td>NaN</td>\n",
       "      <td>NaN</td>\n",
       "      <td>0.0</td>\n",
       "      <td>0.0</td>\n",
       "      <td>NaN</td>\n",
       "      <td>0</td>\n",
       "      <td>副总经理</td>\n",
       "      <td>副总经理</td>\n",
       "    </tr>\n",
       "    <tr>\n",
       "      <th>2</th>\n",
       "      <td>4</td>\n",
       "      <td>603158</td>\n",
       "      <td>2018-12-31</td>\n",
       "      <td>30313750</td>\n",
       "      <td>蒋学真</td>\n",
       "      <td>中华人民共和国</td>\n",
       "      <td>NaN</td>\n",
       "      <td>NaN</td>\n",
       "      <td>NaN</td>\n",
       "      <td>NaN</td>\n",
       "      <td>男</td>\n",
       "      <td>59.0</td>\n",
       "      <td>NaN</td>\n",
       "      <td>2.0</td>\n",
       "      <td>NaN</td>\n",
       "      <td>高级经济师</td>\n",
       "      <td>蒋学真，大专学历,高级经济师，常州市武进区第十六届人大代表。1977年至1990年先后任职于武进区东安镇安北农机厂、常州制药厂和常州矿山机械厂。1990年至2006年历任常州市武进东安起重设备...</td>\n",
       "      <td>Y</td>\n",
       "      <td>386800.0</td>\n",
       "      <td>NaN</td>\n",
       "      <td>638000.0</td>\n",
       "      <td>1</td>\n",
       "      <td>1.0</td>\n",
       "      <td>1</td>\n",
       "      <td>1.0</td>\n",
       "      <td>0</td>\n",
       "      <td>1</td>\n",
       "      <td>5</td>\n",
       "      <td>3</td>\n",
       "      <td>4</td>\n",
       "      <td>99</td>\n",
       "      <td>1</td>\n",
       "      <td>监事</td>\n",
       "      <td>4.0</td>\n",
       "      <td>1.0</td>\n",
       "      <td>0.0</td>\n",
       "      <td>NaN</td>\n",
       "      <td>0</td>\n",
       "      <td>董事长,总经理</td>\n",
       "      <td>董事长,总经理</td>\n",
       "    </tr>\n",
       "    <tr>\n",
       "      <th>3</th>\n",
       "      <td>5</td>\n",
       "      <td>603158</td>\n",
       "      <td>2018-12-31</td>\n",
       "      <td>30369354</td>\n",
       "      <td>薛超</td>\n",
       "      <td>中华人民共和国</td>\n",
       "      <td>NaN</td>\n",
       "      <td>NaN</td>\n",
       "      <td>NaN</td>\n",
       "      <td>NaN</td>\n",
       "      <td>女</td>\n",
       "      <td>31.0</td>\n",
       "      <td>NaN</td>\n",
       "      <td>3.0</td>\n",
       "      <td>NaN</td>\n",
       "      <td>NaN</td>\n",
       "      <td>薛超，本科学历，2012年至2015年任常州腾兴汽车配件有限公司财务部会计，2015年至今任常州腾龙汽车零部件股份有限公司财务部会计。</td>\n",
       "      <td>Y</td>\n",
       "      <td>75600.0</td>\n",
       "      <td>NaN</td>\n",
       "      <td>0.0</td>\n",
       "      <td>0</td>\n",
       "      <td>NaN</td>\n",
       "      <td>0</td>\n",
       "      <td>NaN</td>\n",
       "      <td>0</td>\n",
       "      <td>0</td>\n",
       "      <td>8</td>\n",
       "      <td>3</td>\n",
       "      <td>4</td>\n",
       "      <td>99</td>\n",
       "      <td>0</td>\n",
       "      <td>NaN</td>\n",
       "      <td>NaN</td>\n",
       "      <td>0.0</td>\n",
       "      <td>0.0</td>\n",
       "      <td>NaN</td>\n",
       "      <td>1</td>\n",
       "      <td>监事</td>\n",
       "      <td>监事</td>\n",
       "    </tr>\n",
       "    <tr>\n",
       "      <th>4</th>\n",
       "      <td>6</td>\n",
       "      <td>603158</td>\n",
       "      <td>2018-12-31</td>\n",
       "      <td>30313781</td>\n",
       "      <td>李猛</td>\n",
       "      <td>中华人民共和国</td>\n",
       "      <td>NaN</td>\n",
       "      <td>NaN</td>\n",
       "      <td>NaN</td>\n",
       "      <td>NaN</td>\n",
       "      <td>男</td>\n",
       "      <td>46.0</td>\n",
       "      <td>NaN</td>\n",
       "      <td>3.0</td>\n",
       "      <td>NaN</td>\n",
       "      <td>审核员</td>\n",
       "      <td>李猛，本科学历，质量技术专业中级资格。1994年至2005年曾任职于常州兰翔机械总厂、江苏界达特异钢管有限公司、常州凯美铜管有限公司。2006年至今历任公司质量部部长、子公司福莱斯伯总经理。</td>\n",
       "      <td>Y</td>\n",
       "      <td>199900.0</td>\n",
       "      <td>NaN</td>\n",
       "      <td>0.0</td>\n",
       "      <td>0</td>\n",
       "      <td>NaN</td>\n",
       "      <td>0</td>\n",
       "      <td>NaN</td>\n",
       "      <td>0</td>\n",
       "      <td>0</td>\n",
       "      <td>1,5</td>\n",
       "      <td>3</td>\n",
       "      <td>4</td>\n",
       "      <td>99</td>\n",
       "      <td>0</td>\n",
       "      <td>NaN</td>\n",
       "      <td>NaN</td>\n",
       "      <td>0.0</td>\n",
       "      <td>0.0</td>\n",
       "      <td>NaN</td>\n",
       "      <td>1</td>\n",
       "      <td>监事会主席,职工代表监事</td>\n",
       "      <td>监事会主席,职工代表监事</td>\n",
       "    </tr>\n",
       "  </tbody>\n",
       "</table>\n",
       "</div>"
      ],
      "text/plain": [
       "   index   Stkcd      Reptdt  PersonID Name Nationality NativePlace  \\\n",
       "0      2  603158  2017-12-31  30313768  田长青     中华人民共和国         NaN   \n",
       "1      3  603158  2018-12-31  30313757  蒋建良     中华人民共和国         NaN   \n",
       "2      4  603158  2018-12-31  30313750  蒋学真     中华人民共和国         NaN   \n",
       "3      5  603158  2018-12-31  30369354   薛超     中华人民共和国         NaN   \n",
       "4      6  603158  2018-12-31  30313781   李猛     中华人民共和国         NaN   \n",
       "\n",
       "  NatAreaCode BirthPlace BirAreaCode Gender   Age University  Degree Major  \\\n",
       "0         NaN        NaN         NaN      男  53.0        NaN     5.0   NaN   \n",
       "1         NaN        NaN         NaN      男  42.0        NaN     2.0   NaN   \n",
       "2         NaN        NaN         NaN      男  59.0        NaN     2.0   NaN   \n",
       "3         NaN        NaN         NaN      女  31.0        NaN     3.0   NaN   \n",
       "4         NaN        NaN         NaN      男  46.0        NaN     3.0   NaN   \n",
       "\n",
       "  Profession  \\\n",
       "0     副教授,教师   \n",
       "1        NaN   \n",
       "2      高级经济师   \n",
       "3        NaN   \n",
       "4        审核员   \n",
       "\n",
       "                                                                                                Resume  \\\n",
       "0                                                                                                  NaN   \n",
       "1  蒋建良，大专学历，1995年至2000年曾任职于常州市华新电气研究所、平安保险公司常州分公司、常州市银海电源设备有限公司。2000年至2009年历任管路公司产品工程师、工艺科长、开发科长、技术...   \n",
       "2  蒋学真，大专学历,高级经济师，常州市武进区第十六届人大代表。1977年至1990年先后任职于武进区东安镇安北农机厂、常州制药厂和常州矿山机械厂。1990年至2006年历任常州市武进东安起重设备...   \n",
       "3                                  薛超，本科学历，2012年至2015年任常州腾兴汽车配件有限公司财务部会计，2015年至今任常州腾龙汽车零部件股份有限公司财务部会计。   \n",
       "4      李猛，本科学历，质量技术专业中级资格。1994年至2005年曾任职于常州兰翔机械总厂、江苏界达特异钢管有限公司、常州凯美铜管有限公司。2006年至今历任公司质量部部长、子公司福莱斯伯总经理。   \n",
       "\n",
       "  PaidSign  TotalSalary  Allowance   SharEnd  IsMTMT  TMTP  IsMTB  CTB  \\\n",
       "0        N      20000.0    20000.0       0.0       0   NaN      0  NaN   \n",
       "1        Y     274600.0        NaN       0.0       1   4.0      0  NaN   \n",
       "2        Y     386800.0        NaN  638000.0       1   1.0      1  1.0   \n",
       "3        Y      75600.0        NaN       0.0       0   NaN      0  NaN   \n",
       "4        Y     199900.0        NaN       0.0       0   NaN      0  NaN   \n",
       "\n",
       "   IsIdirecotr  IsDuality Funback OveseaBack Academic FinBack  IsCocurP  \\\n",
       "0            0          0       2          3    1,2,3      99         0   \n",
       "1            0          0   2,5,7          3        4       4         0   \n",
       "2            0          1       5          3        4      99         1   \n",
       "3            0          0       8          3        4      99         0   \n",
       "4            0          0     1,5          3        4      99         0   \n",
       "\n",
       "  OtherCo  OtherCoType  Director_TotCO  Director_ListCO Stkcd_director  \\\n",
       "0     NaN          NaN             0.0              0.0            NaN   \n",
       "1     NaN          NaN             0.0              0.0            NaN   \n",
       "2      监事          4.0             1.0              0.0            NaN   \n",
       "3     NaN          NaN             0.0              0.0            NaN   \n",
       "4     NaN          NaN             0.0              0.0            NaN   \n",
       "\n",
       "   IsSupervisor      Position ServicePosition  \n",
       "0             0          独立董事             NaN  \n",
       "1             0          副总经理            副总经理  \n",
       "2             0       董事长,总经理         董事长,总经理  \n",
       "3             1            监事              监事  \n",
       "4             1  监事会主席,职工代表监事    监事会主席,职工代表监事  "
      ]
     },
     "execution_count": 3,
     "metadata": {},
     "output_type": "execute_result"
    }
   ],
   "source": [
    "df.head()"
   ]
  },
  {
   "cell_type": "code",
   "execution_count": 4,
   "id": "41267b36",
   "metadata": {},
   "outputs": [
    {
     "data": {
      "text/plain": [
       "Index(['index', 'Stkcd', 'Reptdt', 'PersonID', 'Name', 'Nationality',\n",
       "       'NativePlace', 'NatAreaCode', 'BirthPlace', 'BirAreaCode', 'Gender',\n",
       "       'Age', 'University', 'Degree', 'Major', 'Profession', 'Resume',\n",
       "       'PaidSign', 'TotalSalary', 'Allowance', 'SharEnd', 'IsMTMT', 'TMTP',\n",
       "       'IsMTB', 'CTB', 'IsIdirecotr', 'IsDuality', 'Funback', 'OveseaBack',\n",
       "       'Academic', 'FinBack', 'IsCocurP', 'OtherCo', 'OtherCoType',\n",
       "       'Director_TotCO', 'Director_ListCO', 'Stkcd_director', 'IsSupervisor',\n",
       "       'Position', 'ServicePosition'],\n",
       "      dtype='object')"
      ]
     },
     "execution_count": 4,
     "metadata": {},
     "output_type": "execute_result"
    }
   ],
   "source": [
    "df.columns"
   ]
  },
  {
   "cell_type": "code",
   "execution_count": 70,
   "id": "50e9040d",
   "metadata": {},
   "outputs": [],
   "source": [
    "features=[]#特征筛选\n",
    "for i in df.columns:\n",
    "    if i not in ['index','Stkcd','Reptdt','PersonID','Name','Nationality','TotalSalary','Resume','BirAreaCode','NatAreaCode','Stkcd_director']:\n",
    "        features.append(i)"
   ]
  },
  {
   "cell_type": "code",
   "execution_count": 71,
   "id": "4787af82",
   "metadata": {},
   "outputs": [],
   "source": [
    "#特征编码\n",
    "need_encode=['Gender','Profession','PaidSign','OtherCo','Position','ServicePosition','NativePlace','BirthPlace','University','Major','Funback','OveseaBack','Academic','FinBack','Nationality']\n",
    "le=LabelEncoder()\n",
    "for i in need_encode:\n",
    "    df[i]=le.fit_transform(df[i])"
   ]
  },
  {
   "cell_type": "code",
   "execution_count": 73,
   "id": "653a0eab",
   "metadata": {},
   "outputs": [],
   "source": [
    "from sklearn.ensemble import GradientBoostingRegressor#GBDT\n",
    "from sklearn.model_selection import train_test_split#训练集验证集划分\n",
    "import lightgbm as lgb#LightGBM模型"
   ]
  },
  {
   "cell_type": "code",
   "execution_count": 74,
   "id": "51462c84",
   "metadata": {},
   "outputs": [],
   "source": [
    "df=df[~df['TotalSalary'].isna()]#选出标签列不为空的行"
   ]
  },
  {
   "cell_type": "code",
   "execution_count": 75,
   "id": "be5ec0dd",
   "metadata": {},
   "outputs": [
    {
     "data": {
      "text/plain": [
       "(76244, 40)"
      ]
     },
     "execution_count": 75,
     "metadata": {},
     "output_type": "execute_result"
    }
   ],
   "source": [
    "df.shape"
   ]
  },
  {
   "cell_type": "code",
   "execution_count": 84,
   "id": "7d8953c9",
   "metadata": {},
   "outputs": [],
   "source": [
    "X=df[features]\n",
    "Y=df['TotalSalary']\n",
    "x_tr,x_val,y_tr,y_val=train_test_split(X,Y,test_size=0.3,random_state=0)#7：3随机划分训练集与验证集"
   ]
  },
  {
   "cell_type": "code",
   "execution_count": 145,
   "id": "28c8b726",
   "metadata": {},
   "outputs": [],
   "source": [
    "#训练参数\n",
    "params={\n",
    "            'boosting_type': 'gbdt',\n",
    "            'objective': 'regression',\n",
    "            'tree_learner':'serial',\n",
    "            'metric': 'rmse',\n",
    "            'num_boost_round':20000,\n",
    "    \n",
    "            'num_leaves': 2**8,\n",
    "            'max_depth': 15,\n",
    "            'max_bin': 75,\n",
    "            'feature_fraction': 1.0,\n",
    "            'bagging_fraction': 1.0,\n",
    "            'bagging_freq': 90,\n",
    "            'lambda_l1': 1e-05,\n",
    "            'lambda_l2': 1e-05,\n",
    "            'min_split_gain': 0.0,\n",
    "    \n",
    "            'learning_rate': 0.01,\n",
    "            'n_jobs':4,\n",
    "            'verbose': -1,\n",
    "}"
   ]
  },
  {
   "cell_type": "markdown",
   "id": "bad6e207",
   "metadata": {},
   "source": [
    "模型训练"
   ]
  },
  {
   "cell_type": "code",
   "execution_count": 146,
   "id": "62ce3c0f",
   "metadata": {},
   "outputs": [],
   "source": [
    "model=lgb.LGBMRegressor(**params)#定义模型"
   ]
  },
  {
   "cell_type": "code",
   "execution_count": 148,
   "id": "7e139fd5",
   "metadata": {},
   "outputs": [
    {
     "name": "stdout",
     "output_type": "stream",
     "text": [
      "[200]\ttraining's rmse: 2395.81\tvalid_1's rmse: 2574.57\n",
      "[400]\ttraining's rmse: 2157.6\tvalid_1's rmse: 2456.15\n",
      "[600]\ttraining's rmse: 2056.4\tvalid_1's rmse: 2420.38\n",
      "[800]\ttraining's rmse: 1978.05\tvalid_1's rmse: 2397.39\n",
      "[1000]\ttraining's rmse: 1911.41\tvalid_1's rmse: 2380.22\n",
      "[1200]\ttraining's rmse: 1850.26\tvalid_1's rmse: 2365.4\n",
      "[1400]\ttraining's rmse: 1795.42\tvalid_1's rmse: 2354.62\n",
      "[1600]\ttraining's rmse: 1753.36\tvalid_1's rmse: 2346.29\n",
      "[1800]\ttraining's rmse: 1713.95\tvalid_1's rmse: 2339.5\n",
      "[2000]\ttraining's rmse: 1671.51\tvalid_1's rmse: 2332.69\n",
      "[2200]\ttraining's rmse: 1638.28\tvalid_1's rmse: 2327.18\n",
      "[2400]\ttraining's rmse: 1600.29\tvalid_1's rmse: 2320.4\n",
      "[2600]\ttraining's rmse: 1567.28\tvalid_1's rmse: 2315.75\n",
      "[2800]\ttraining's rmse: 1535.55\tvalid_1's rmse: 2311.68\n",
      "[3000]\ttraining's rmse: 1509.67\tvalid_1's rmse: 2308.56\n",
      "[3200]\ttraining's rmse: 1483.82\tvalid_1's rmse: 2305.63\n",
      "[3400]\ttraining's rmse: 1457.71\tvalid_1's rmse: 2302.51\n",
      "[3600]\ttraining's rmse: 1434.45\tvalid_1's rmse: 2300.25\n",
      "[3800]\ttraining's rmse: 1412.77\tvalid_1's rmse: 2298.06\n",
      "[4000]\ttraining's rmse: 1392.47\tvalid_1's rmse: 2296.82\n",
      "[4200]\ttraining's rmse: 1372.03\tvalid_1's rmse: 2295.55\n",
      "[4400]\ttraining's rmse: 1349.41\tvalid_1's rmse: 2294.38\n",
      "[4600]\ttraining's rmse: 1328.69\tvalid_1's rmse: 2293.38\n",
      "[4800]\ttraining's rmse: 1310.94\tvalid_1's rmse: 2292.4\n",
      "[5000]\ttraining's rmse: 1292.68\tvalid_1's rmse: 2291.61\n",
      "[5200]\ttraining's rmse: 1276.1\tvalid_1's rmse: 2290.9\n",
      "[5400]\ttraining's rmse: 1261.8\tvalid_1's rmse: 2290.82\n",
      "[5600]\ttraining's rmse: 1245.69\tvalid_1's rmse: 2290.7\n",
      "[5800]\ttraining's rmse: 1232.97\tvalid_1's rmse: 2290.73\n"
     ]
    },
    {
     "data": {
      "text/html": [
       "<style>#sk-container-id-26 {color: black;background-color: white;}#sk-container-id-26 pre{padding: 0;}#sk-container-id-26 div.sk-toggleable {background-color: white;}#sk-container-id-26 label.sk-toggleable__label {cursor: pointer;display: block;width: 100%;margin-bottom: 0;padding: 0.3em;box-sizing: border-box;text-align: center;}#sk-container-id-26 label.sk-toggleable__label-arrow:before {content: \"▸\";float: left;margin-right: 0.25em;color: #696969;}#sk-container-id-26 label.sk-toggleable__label-arrow:hover:before {color: black;}#sk-container-id-26 div.sk-estimator:hover label.sk-toggleable__label-arrow:before {color: black;}#sk-container-id-26 div.sk-toggleable__content {max-height: 0;max-width: 0;overflow: hidden;text-align: left;background-color: #f0f8ff;}#sk-container-id-26 div.sk-toggleable__content pre {margin: 0.2em;color: black;border-radius: 0.25em;background-color: #f0f8ff;}#sk-container-id-26 input.sk-toggleable__control:checked~div.sk-toggleable__content {max-height: 200px;max-width: 100%;overflow: auto;}#sk-container-id-26 input.sk-toggleable__control:checked~label.sk-toggleable__label-arrow:before {content: \"▾\";}#sk-container-id-26 div.sk-estimator input.sk-toggleable__control:checked~label.sk-toggleable__label {background-color: #d4ebff;}#sk-container-id-26 div.sk-label input.sk-toggleable__control:checked~label.sk-toggleable__label {background-color: #d4ebff;}#sk-container-id-26 input.sk-hidden--visually {border: 0;clip: rect(1px 1px 1px 1px);clip: rect(1px, 1px, 1px, 1px);height: 1px;margin: -1px;overflow: hidden;padding: 0;position: absolute;width: 1px;}#sk-container-id-26 div.sk-estimator {font-family: monospace;background-color: #f0f8ff;border: 1px dotted black;border-radius: 0.25em;box-sizing: border-box;margin-bottom: 0.5em;}#sk-container-id-26 div.sk-estimator:hover {background-color: #d4ebff;}#sk-container-id-26 div.sk-parallel-item::after {content: \"\";width: 100%;border-bottom: 1px solid gray;flex-grow: 1;}#sk-container-id-26 div.sk-label:hover label.sk-toggleable__label {background-color: #d4ebff;}#sk-container-id-26 div.sk-serial::before {content: \"\";position: absolute;border-left: 1px solid gray;box-sizing: border-box;top: 0;bottom: 0;left: 50%;z-index: 0;}#sk-container-id-26 div.sk-serial {display: flex;flex-direction: column;align-items: center;background-color: white;padding-right: 0.2em;padding-left: 0.2em;position: relative;}#sk-container-id-26 div.sk-item {position: relative;z-index: 1;}#sk-container-id-26 div.sk-parallel {display: flex;align-items: stretch;justify-content: center;background-color: white;position: relative;}#sk-container-id-26 div.sk-item::before, #sk-container-id-26 div.sk-parallel-item::before {content: \"\";position: absolute;border-left: 1px solid gray;box-sizing: border-box;top: 0;bottom: 0;left: 50%;z-index: -1;}#sk-container-id-26 div.sk-parallel-item {display: flex;flex-direction: column;z-index: 1;position: relative;background-color: white;}#sk-container-id-26 div.sk-parallel-item:first-child::after {align-self: flex-end;width: 50%;}#sk-container-id-26 div.sk-parallel-item:last-child::after {align-self: flex-start;width: 50%;}#sk-container-id-26 div.sk-parallel-item:only-child::after {width: 0;}#sk-container-id-26 div.sk-dashed-wrapped {border: 1px dashed gray;margin: 0 0.4em 0.5em 0.4em;box-sizing: border-box;padding-bottom: 0.4em;background-color: white;}#sk-container-id-26 div.sk-label label {font-family: monospace;font-weight: bold;display: inline-block;line-height: 1.2em;}#sk-container-id-26 div.sk-label-container {text-align: center;}#sk-container-id-26 div.sk-container {/* jupyter's `normalize.less` sets `[hidden] { display: none; }` but bootstrap.min.css set `[hidden] { display: none !important; }` so we also need the `!important` here to be able to override the default hidden behavior on the sphinx rendered scikit-learn.org. See: https://github.com/scikit-learn/scikit-learn/issues/21755 */display: inline-block !important;position: relative;}#sk-container-id-26 div.sk-text-repr-fallback {display: none;}</style><div id=\"sk-container-id-26\" class=\"sk-top-container\"><div class=\"sk-text-repr-fallback\"><pre>LGBMRegressor(bagging_fraction=1.0, bagging_freq=90, feature_fraction=1.0,\n",
       "              lambda_l1=1e-05, lambda_l2=1e-05, learning_rate=0.01, max_bin=75,\n",
       "              max_depth=15, metric=&#x27;rmse&#x27;, n_jobs=4, num_boost_round=20000,\n",
       "              num_leaves=256, objective=&#x27;regression&#x27;, tree_learner=&#x27;serial&#x27;,\n",
       "              verbose=-1)</pre><b>In a Jupyter environment, please rerun this cell to show the HTML representation or trust the notebook. <br />On GitHub, the HTML representation is unable to render, please try loading this page with nbviewer.org.</b></div><div class=\"sk-container\" hidden><div class=\"sk-item\"><div class=\"sk-estimator sk-toggleable\"><input class=\"sk-toggleable__control sk-hidden--visually\" id=\"sk-estimator-id-26\" type=\"checkbox\" checked><label for=\"sk-estimator-id-26\" class=\"sk-toggleable__label sk-toggleable__label-arrow\">LGBMRegressor</label><div class=\"sk-toggleable__content\"><pre>LGBMRegressor(bagging_fraction=1.0, bagging_freq=90, feature_fraction=1.0,\n",
       "              lambda_l1=1e-05, lambda_l2=1e-05, learning_rate=0.01, max_bin=75,\n",
       "              max_depth=15, metric=&#x27;rmse&#x27;, n_jobs=4, num_boost_round=20000,\n",
       "              num_leaves=256, objective=&#x27;regression&#x27;, tree_learner=&#x27;serial&#x27;,\n",
       "              verbose=-1)</pre></div></div></div></div></div>"
      ],
      "text/plain": [
       "LGBMRegressor(bagging_fraction=1.0, bagging_freq=90, feature_fraction=1.0,\n",
       "              lambda_l1=1e-05, lambda_l2=1e-05, learning_rate=0.01, max_bin=75,\n",
       "              max_depth=15, metric='rmse', n_jobs=4, num_boost_round=20000,\n",
       "              num_leaves=256, objective='regression', tree_learner='serial',\n",
       "              verbose=-1)"
      ]
     },
     "execution_count": 148,
     "metadata": {},
     "output_type": "execute_result"
    }
   ],
   "source": [
    "#模型训练\n",
    "model.fit(x_tr,y_tr,\n",
    "         eval_set=[(x_tr, y_tr), (x_val, y_val)],#模型评估\n",
    "              eval_metric='rmse',#rmse\n",
    "              verbose=200, #每200轮输出信息\n",
    "              early_stopping_rounds=200)#若200轮没提升就停止，防止过拟合"
   ]
  },
  {
   "cell_type": "code",
   "execution_count": 149,
   "id": "4f33c316",
   "metadata": {},
   "outputs": [
    {
     "data": {
      "text/plain": [
       "0.7092638152454803"
      ]
     },
     "execution_count": 149,
     "metadata": {},
     "output_type": "execute_result"
    }
   ],
   "source": [
    "model.score(x_val,y_val)#R^2分数"
   ]
  },
  {
   "cell_type": "code",
   "execution_count": 139,
   "id": "58ca7728",
   "metadata": {},
   "outputs": [],
   "source": [
    "lgb_feat_imp = pd.Series(model.feature_importances_, [i for i in X[features].columns]).sort_values(ascending=False)#特征重要性"
   ]
  },
  {
   "cell_type": "code",
   "execution_count": 140,
   "id": "a54d1a67",
   "metadata": {},
   "outputs": [
    {
     "data": {
      "text/plain": [
       "SharEnd            41848\n",
       "Age                36698\n",
       "Funback            26062\n",
       "Position           22288\n",
       "Degree             18132\n",
       "ServicePosition    16301\n",
       "Profession         13625\n",
       "University         12671\n",
       "Major              10924\n",
       "Director_TotCO     10419\n",
       "OtherCo             4976\n",
       "TMTP                4499\n",
       "Allowance           3543\n",
       "Academic            3512\n",
       "OveseaBack          3435\n",
       "Gender              3243\n",
       "PaidSign            3224\n",
       "NativePlace         3033\n",
       "FinBack             2877\n",
       "CTB                 2838\n",
       "IsMTMT              2591\n",
       "IsMTB               1939\n",
       "OtherCoType         1882\n",
       "IsSupervisor        1178\n",
       "IsCocurP             889\n",
       "BirthPlace           579\n",
       "Director_ListCO      397\n",
       "IsDuality            366\n",
       "IsIdirecotr            7\n",
       "dtype: int32"
      ]
     },
     "execution_count": 140,
     "metadata": {},
     "output_type": "execute_result"
    }
   ],
   "source": [
    "lgb_feat_imp#特征重要性"
   ]
  },
  {
   "cell_type": "code",
   "execution_count": 175,
   "id": "43670066",
   "metadata": {},
   "outputs": [
    {
     "data": {
      "text/plain": [
       "<BarContainer object of 15 artists>"
      ]
     },
     "execution_count": 175,
     "metadata": {},
     "output_type": "execute_result"
    },
    {
     "data": {
      "image/png": "[encoded data removed]",
      "text/plain": [
       "<Figure size 1440x360 with 1 Axes>"
      ]
     },
     "metadata": {
      "needs_background": "light"
     },
     "output_type": "display_data"
    }
   ],
   "source": [
    "plt.figure(figsize=(20,5))#特征重要性可视化\n",
    "plt.bar(x=lgb_feat_imp[:15].index,height=lgb_feat_imp[:15].values)"
   ]
  },
  {
   "cell_type": "code",
   "execution_count": null,
   "id": "de9d05dd",
   "metadata": {},
   "outputs": [],
   "source": []
  }
 ],
 "metadata": {
  "kernelspec": {
   "display_name": "Python 3 (ipykernel)",
   "language": "python",
   "name": "python3"
  },
  "language_info": {
   "codemirror_mode": {
    "name": "ipython",
    "version": 3
   },
   "file_extension": ".py",
   "mimetype": "text/x-python",
   "name": "python",
   "nbconvert_exporter": "python",
   "pygments_lexer": "ipython3",
   "version": "3.8.8"
  }
 },
 "nbformat": 4,
 "nbformat_minor": 5
}
