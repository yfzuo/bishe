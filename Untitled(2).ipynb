{
 "cells": [
  {
   "cell_type": "code",
   "execution_count": 1,
   "id": "c707dd05",
   "metadata": {},
   "outputs": [],
   "source": [
    "import pandas as pd\n",
    "import numpy as np\n",
    "import matplotlib.pyplot as plt\n",
    "import seaborn as sns\n",
    "import warnings\n",
    "from tqdm import tqdm\n",
    "import re\n",
    "from datetime import datetime\n",
    "from sklearn.preprocessing import OneHotEncoder\n",
    "from sklearn.preprocessing import LabelEncoder\n",
    "warnings.filterwarnings('ignore')\n",
    "plt.rcParams['font.sans-serif'] = ['SimHei']\n",
    "plt.rcParams['axes.unicode_minus'] = False \n",
    "#显示所有列\n",
    "pd.set_option('display.max_columns', None)\n",
    "#显示所有行\n",
    "pd.set_option('display.max_rows', None)\n",
    "#设置value的显示长度为100，默认为50\n",
    "pd.set_option('max_colwidth',100)"
   ]
  },
  {
   "cell_type": "code",
   "execution_count": 2,
   "id": "8b619855",
   "metadata": {},
   "outputs": [],
   "source": [
    "df=pd.read_csv('processed_data.csv')#读取预处理后的数据"
   ]
  },
  {
   "cell_type": "code",
   "execution_count": 3,
   "id": "b6ed8a30",
   "metadata": {},
   "outputs": [
    {
     "data": {
      "text/html": [
       "<div>\n",
       "<style scoped>\n",
       "    .dataframe tbody tr th:only-of-type {\n",
       "        vertical-align: middle;\n",
       "    }\n",
       "\n",
       "    .dataframe tbody tr th {\n",
       "        vertical-align: top;\n",
       "    }\n",
       "\n",
       "    .dataframe thead th {\n",
       "        text-align: right;\n",
       "    }\n",
       "</style>\n",
       "<table border=\"1\" class=\"dataframe\">\n",
       "  <thead>\n",
       "    <tr style=\"text-align: right;\">\n",
       "      <th></th>\n",
       "      <th>index</th>\n",
       "      <th>Stkcd</th>\n",
       "      <th>Reptdt</th>\n",
       "      <th>PersonID</th>\n",
       "      <th>Name</th>\n",
       "      <th>Nationality</th>\n",
       "      <th>NativePlace</th>\n",
       "      <th>NatAreaCode</th>\n",
       "      <th>BirthPlace</th>\n",
       "      <th>BirAreaCode</th>\n",
       "      <th>Gender</th>\n",
       "      <th>Age</th>\n",
       "      <th>University</th>\n",
       "      <th>Degree</th>\n",
       "      <th>Major</th>\n",
       "      <th>Profession</th>\n",
       "      <th>Resume</th>\n",
       "      <th>PaidSign</th>\n",
       "      <th>TotalSalary</th>\n",
       "      <th>Allowance</th>\n",
       "      <th>SharEnd</th>\n",
       "      <th>IsMTMT</th>\n",
       "      <th>TMTP</th>\n",
       "      <th>IsMTB</th>\n",
       "      <th>CTB</th>\n",
       "      <th>IsIdirecotr</th>\n",
       "      <th>IsDuality</th>\n",
       "      <th>Funback</th>\n",
       "      <th>OveseaBack</th>\n",
       "      <th>Academic</th>\n",
       "      <th>FinBack</th>\n",
       "      <th>IsCocurP</th>\n",
       "      <th>OtherCo</th>\n",
       "      <th>OtherCoType</th>\n",
       "      <th>Director_TotCO</th>\n",
       "      <th>Director_ListCO</th>\n",
       "      <th>Stkcd_director</th>\n",
       "      <th>IsSupervisor</th>\n",
       "      <th>Position</th>\n",
       "      <th>ServicePosition</th>\n",
       "    </tr>\n",
       "  </thead>\n",
       "  <tbody>\n",
       "    <tr>\n",
       "      <th>0</th>\n",
       "      <td>2</td>\n",
       "      <td>603158</td>\n",
       "      <td>2017-12-31</td>\n",
       "      <td>30313768</td>\n",
       "      <td>田长青</td>\n",
       "      <td>中华人民共和国</td>\n",
       "      <td>NaN</td>\n",
       "      <td>NaN</td>\n",
       "      <td>NaN</td>\n",
       "      <td>NaN</td>\n",
       "      <td>男</td>\n",
       "      <td>53.0</td>\n",
       "      <td>NaN</td>\n",
       "      <td>5.0</td>\n",
       "      <td>NaN</td>\n",
       "      <td>副教授,教师</td>\n",
       "      <td>NaN</td>\n",
       "      <td>N</td>\n",
       "      <td>20000.0</td>\n",
       "      <td>20000.0</td>\n",
       "      <td>0.0</td>\n",
       "      <td>0</td>\n",
       "      <td>NaN</td>\n",
       "      <td>0</td>\n",
       "      <td>NaN</td>\n",
       "      <td>0</td>\n",
       "      <td>0</td>\n",
       "      <td>2</td>\n",
       "      <td>3</td>\n",
       "      <td>1,2,3</td>\n",
       "      <td>99</td>\n",
       "      <td>0</td>\n",
       "      <td>NaN</td>\n",
       "      <td>NaN</td>\n",
       "      <td>0.0</td>\n",
       "      <td>0.0</td>\n",
       "      <td>NaN</td>\n",
       "      <td>0</td>\n",
       "      <td>独立董事</td>\n",
       "      <td>NaN</td>\n",
       "    </tr>\n",
       "    <tr>\n",
       "      <th>1</th>\n",
       "      <td>3</td>\n",
       "      <td>603158</td>\n",
       "      <td>2018-12-31</td>\n",
       "      <td>30313757</td>\n",
       "      <td>蒋建良</td>\n",
       "      <td>中华人民共和国</td>\n",
       "      <td>NaN</td>\n",
       "      <td>NaN</td>\n",
       "      <td>NaN</td>\n",
       "      <td>NaN</td>\n",
       "      <td>男</td>\n",
       "      <td>42.0</td>\n",
       "      <td>NaN</td>\n",
       "      <td>2.0</td>\n",
       "      <td>NaN</td>\n",
       "      <td>NaN</td>\n",
       "      <td>蒋建良，大专学历，1995年至2000年曾任职于常州市华新电气研究所、平安保险公司常州分公司、常州市银海电源设备有限公司。2000年至2009年历任管路公司产品工程师、工艺科长、开发科长、技术...</td>\n",
       "      <td>Y</td>\n",
       "      <td>274600.0</td>\n",
       "      <td>NaN</td>\n",
       "      <td>0.0</td>\n",
       "      <td>1</td>\n",
       "      <td>4.0</td>\n",
       "      <td>0</td>\n",
       "      <td>NaN</td>\n",
       "      <td>0</td>\n",
       "      <td>0</td>\n",
       "      <td>2,5,7</td>\n",
       "      <td>3</td>\n",
       "      <td>4</td>\n",
       "      <td>4</td>\n",
       "      <td>0</td>\n",
       "      <td>NaN</td>\n",
       "      <td>NaN</td>\n",
       "      <td>0.0</td>\n",
       "      <td>0.0</td>\n",
       "      <td>NaN</td>\n",
       "      <td>0</td>\n",
       "      <td>副总经理</td>\n",
       "      <td>副总经理</td>\n",
       "    </tr>\n",
       "    <tr>\n",
       "      <th>2</th>\n",
       "      <td>4</td>\n",
       "      <td>603158</td>\n",
       "      <td>2018-12-31</td>\n",
       "      <td>30313750</td>\n",
       "      <td>蒋学真</td>\n",
       "      <td>中华人民共和国</td>\n",
       "      <td>NaN</td>\n",
       "      <td>NaN</td>\n",
       "      <td>NaN</td>\n",
       "      <td>NaN</td>\n",
       "      <td>男</td>\n",
       "      <td>59.0</td>\n",
       "      <td>NaN</td>\n",
       "      <td>2.0</td>\n",
       "      <td>NaN</td>\n",
       "      <td>高级经济师</td>\n",
       "      <td>蒋学真，大专学历,高级经济师，常州市武进区第十六届人大代表。1977年至1990年先后任职于武进区东安镇安北农机厂、常州制药厂和常州矿山机械厂。1990年至2006年历任常州市武进东安起重设备...</td>\n",
       "      <td>Y</td>\n",
       "      <td>386800.0</td>\n",
       "      <td>NaN</td>\n",
       "      <td>638000.0</td>\n",
       "      <td>1</td>\n",
       "      <td>1.0</td>\n",
       "      <td>1</td>\n",
       "      <td>1.0</td>\n",
       "      <td>0</td>\n",
       "      <td>1</td>\n",
       "      <td>5</td>\n",
       "      <td>3</td>\n",
       "      <td>4</td>\n",
       "      <td>99</td>\n",
       "      <td>1</td>\n",
       "      <td>监事</td>\n",
       "      <td>4.0</td>\n",
       "      <td>1.0</td>\n",
       "      <td>0.0</td>\n",
       "      <td>NaN</td>\n",
       "      <td>0</td>\n",
       "      <td>董事长,总经理</td>\n",
       "      <td>董事长,总经理</td>\n",
       "    </tr>\n",
       "    <tr>\n",
       "      <th>3</th>\n",
       "      <td>5</td>\n",
       "      <td>603158</td>\n",
       "      <td>2018-12-31</td>\n",
       "      <td>30369354</td>\n",
       "      <td>薛超</td>\n",
       "      <td>中华人民共和国</td>\n",
       "      <td>NaN</td>\n",
       "      <td>NaN</td>\n",
       "      <td>NaN</td>\n",
       "      <td>NaN</td>\n",
       "      <td>女</td>\n",
       "      <td>31.0</td>\n",
       "      <td>NaN</td>\n",
       "      <td>3.0</td>\n",
       "      <td>NaN</td>\n",
       "      <td>NaN</td>\n",
       "      <td>薛超，本科学历，2012年至2015年任常州腾兴汽车配件有限公司财务部会计，2015年至今任常州腾龙汽车零部件股份有限公司财务部会计。</td>\n",
       "      <td>Y</td>\n",
       "      <td>75600.0</td>\n",
       "      <td>NaN</td>\n",
       "      <td>0.0</td>\n",
       "      <td>0</td>\n",
       "      <td>NaN</td>\n",
       "      <td>0</td>\n",
       "      <td>NaN</td>\n",
       "      <td>0</td>\n",
       "      <td>0</td>\n",
       "      <td>8</td>\n",
       "      <td>3</td>\n",
       "      <td>4</td>\n",
       "      <td>99</td>\n",
       "      <td>0</td>\n",
       "      <td>NaN</td>\n",
       "      <td>NaN</td>\n",
       "      <td>0.0</td>\n",
       "      <td>0.0</td>\n",
       "      <td>NaN</td>\n",
       "      <td>1</td>\n",
       "      <td>监事</td>\n",
       "      <td>监事</td>\n",
       "    </tr>\n",
       "    <tr>\n",
       "      <th>4</th>\n",
       "      <td>6</td>\n",
       "      <td>603158</td>\n",
       "      <td>2018-12-31</td>\n",
       "      <td>30313781</td>\n",
       "      <td>李猛</td>\n",
       "      <td>中华人民共和国</td>\n",
       "      <td>NaN</td>\n",
       "      <td>NaN</td>\n",
       "      <td>NaN</td>\n",
       "      <td>NaN</td>\n",
       "      <td>男</td>\n",
       "      <td>46.0</td>\n",
       "      <td>NaN</td>\n",
       "      <td>3.0</td>\n",
       "      <td>NaN</td>\n",
       "      <td>审核员</td>\n",
       "      <td>李猛，本科学历，质量技术专业中级资格。1994年至2005年曾任职于常州兰翔机械总厂、江苏界达特异钢管有限公司、常州凯美铜管有限公司。2006年至今历任公司质量部部长、子公司福莱斯伯总经理。</td>\n",
       "      <td>Y</td>\n",
       "      <td>199900.0</td>\n",
       "      <td>NaN</td>\n",
       "      <td>0.0</td>\n",
       "      <td>0</td>\n",
       "      <td>NaN</td>\n",
       "      <td>0</td>\n",
       "      <td>NaN</td>\n",
       "      <td>0</td>\n",
       "      <td>0</td>\n",
       "      <td>1,5</td>\n",
       "      <td>3</td>\n",
       "      <td>4</td>\n",
       "      <td>99</td>\n",
       "      <td>0</td>\n",
       "      <td>NaN</td>\n",
       "      <td>NaN</td>\n",
       "      <td>0.0</td>\n",
       "      <td>0.0</td>\n",
       "      <td>NaN</td>\n",
       "      <td>1</td>\n",
       "      <td>监事会主席,职工代表监事</td>\n",
       "      <td>监事会主席,职工代表监事</td>\n",
       "    </tr>\n",
       "  </tbody>\n",
       "</table>\n",
       "</div>"
      ],
      "text/plain": [
       "   index   Stkcd      Reptdt  PersonID Name Nationality NativePlace  \\\n",
       "0      2  603158  2017-12-31  30313768  田长青     中华人民共和国         NaN   \n",
       "1      3  603158  2018-12-31  30313757  蒋建良     中华人民共和国         NaN   \n",
       "2      4  603158  2018-12-31  30313750  蒋学真     中华人民共和国         NaN   \n",
       "3      5  603158  2018-12-31  30369354   薛超     中华人民共和国         NaN   \n",
       "4      6  603158  2018-12-31  30313781   李猛     中华人民共和国         NaN   \n",
       "\n",
       "  NatAreaCode BirthPlace BirAreaCode Gender   Age University  Degree Major  \\\n",
       "0         NaN        NaN         NaN      男  53.0        NaN     5.0   NaN   \n",
       "1         NaN        NaN         NaN      男  42.0        NaN     2.0   NaN   \n",
       "2         NaN        NaN         NaN      男  59.0        NaN     2.0   NaN   \n",
       "3         NaN        NaN         NaN      女  31.0        NaN     3.0   NaN   \n",
       "4         NaN        NaN         NaN      男  46.0        NaN     3.0   NaN   \n",
       "\n",
       "  Profession  \\\n",
       "0     副教授,教师   \n",
       "1        NaN   \n",
       "2      高级经济师   \n",
       "3        NaN   \n",
       "4        审核员   \n",
       "\n",
       "                                                                                                Resume  \\\n",
       "0                                                                                                  NaN   \n",
       "1  蒋建良，大专学历，1995年至2000年曾任职于常州市华新电气研究所、平安保险公司常州分公司、常州市银海电源设备有限公司。2000年至2009年历任管路公司产品工程师、工艺科长、开发科长、技术...   \n",
       "2  蒋学真，大专学历,高级经济师，常州市武进区第十六届人大代表。1977年至1990年先后任职于武进区东安镇安北农机厂、常州制药厂和常州矿山机械厂。1990年至2006年历任常州市武进东安起重设备...   \n",
       "3                                  薛超，本科学历，2012年至2015年任常州腾兴汽车配件有限公司财务部会计，2015年至今任常州腾龙汽车零部件股份有限公司财务部会计。   \n",
       "4      李猛，本科学历，质量技术专业中级资格。1994年至2005年曾任职于常州兰翔机械总厂、江苏界达特异钢管有限公司、常州凯美铜管有限公司。2006年至今历任公司质量部部长、子公司福莱斯伯总经理。   \n",
       "\n",
       "  PaidSign  TotalSalary  Allowance   SharEnd  IsMTMT  TMTP  IsMTB  CTB  \\\n",
       "0        N      20000.0    20000.0       0.0       0   NaN      0  NaN   \n",
       "1        Y     274600.0        NaN       0.0       1   4.0      0  NaN   \n",
       "2        Y     386800.0        NaN  638000.0       1   1.0      1  1.0   \n",
       "3        Y      75600.0        NaN       0.0       0   NaN      0  NaN   \n",
       "4        Y     199900.0        NaN       0.0       0   NaN      0  NaN   \n",
       "\n",
       "   IsIdirecotr  IsDuality Funback OveseaBack Academic FinBack  IsCocurP  \\\n",
       "0            0          0       2          3    1,2,3      99         0   \n",
       "1            0          0   2,5,7          3        4       4         0   \n",
       "2            0          1       5          3        4      99         1   \n",
       "3            0          0       8          3        4      99         0   \n",
       "4            0          0     1,5          3        4      99         0   \n",
       "\n",
       "  OtherCo  OtherCoType  Director_TotCO  Director_ListCO Stkcd_director  \\\n",
       "0     NaN          NaN             0.0              0.0            NaN   \n",
       "1     NaN          NaN             0.0              0.0            NaN   \n",
       "2      监事          4.0             1.0              0.0            NaN   \n",
       "3     NaN          NaN             0.0              0.0            NaN   \n",
       "4     NaN          NaN             0.0              0.0            NaN   \n",
       "\n",
       "   IsSupervisor      Position ServicePosition  \n",
       "0             0          独立董事             NaN  \n",
       "1             0          副总经理            副总经理  \n",
       "2             0       董事长,总经理         董事长,总经理  \n",
       "3             1            监事              监事  \n",
       "4             1  监事会主席,职工代表监事    监事会主席,职工代表监事  "
      ]
     },
     "execution_count": 3,
     "metadata": {},
     "output_type": "execute_result"
    }
   ],
   "source": [
    "df.head()"
   ]
  },
  {
   "cell_type": "code",
   "execution_count": 4,
   "id": "41267b36",
   "metadata": {
    "scrolled": true
   },
   "outputs": [
    {
     "data": {
      "text/plain": [
       "Index(['index', 'Stkcd', 'Reptdt', 'PersonID', 'Name', 'Nationality',\n",
       "       'NativePlace', 'NatAreaCode', 'BirthPlace', 'BirAreaCode', 'Gender',\n",
       "       'Age', 'University', 'Degree', 'Major', 'Profession', 'Resume',\n",
       "       'PaidSign', 'TotalSalary', 'Allowance', 'SharEnd', 'IsMTMT', 'TMTP',\n",
       "       'IsMTB', 'CTB', 'IsIdirecotr', 'IsDuality', 'Funback', 'OveseaBack',\n",
       "       'Academic', 'FinBack', 'IsCocurP', 'OtherCo', 'OtherCoType',\n",
       "       'Director_TotCO', 'Director_ListCO', 'Stkcd_director', 'IsSupervisor',\n",
       "       'Position', 'ServicePosition'],\n",
       "      dtype='object')"
      ]
     },
     "execution_count": 4,
     "metadata": {},
     "output_type": "execute_result"
    }
   ],
   "source": [
    "df.columns"
   ]
  },
  {
   "cell_type": "code",
   "execution_count": 54,
   "id": "12163ec3",
   "metadata": {},
   "outputs": [
    {
     "data": {
      "text/plain": [
       "<AxesSubplot:xlabel='TotalSalary', ylabel='Density'>"
      ]
     },
     "execution_count": 54,
     "metadata": {},
     "output_type": "execute_result"
    },
    {
     "data": {
      "image/png": "[encoded data removed]",
      "text/plain": [
       "<Figure size 432x288 with 1 Axes>"
      ]
     },
     "metadata": {
      "needs_background": "light"
     },
     "output_type": "display_data"
    }
   ],
   "source": [
    "#薪资分布核密度图\n",
    "sns.distplot(df['TotalSalary'])"
   ]
  },
  {
   "cell_type": "code",
   "execution_count": 60,
   "id": "0417f73e",
   "metadata": {},
   "outputs": [
    {
     "data": {
      "text/plain": [
       "<AxesSubplot:xlabel='TotalSalary'>"
      ]
     },
     "execution_count": 60,
     "metadata": {},
     "output_type": "execute_result"
    },
    {
     "data": {
      "image/png": "[encoded data removed]",
      "text/plain": [
       "<Figure size 432x288 with 1 Axes>"
      ]
     },
     "metadata": {
      "needs_background": "light"
     },
     "output_type": "display_data"
    }
   ],
   "source": [
    "#薪资分布箱线图\n",
    "sns.boxplot(df['TotalSalary'])"
   ]
  },
  {
   "cell_type": "code",
   "execution_count": 5,
   "id": "50e9040d",
   "metadata": {},
   "outputs": [],
   "source": [
    "features=[]#特征筛选\n",
    "for i in df.columns:\n",
    "    if i not in ['index','Stkcd','Reptdt','PersonID','Name','Nationality','TotalSalary','Resume','BirAreaCode','NatAreaCode','Stkcd_director']:\n",
    "        features.append(i)"
   ]
  },
  {
   "cell_type": "code",
   "execution_count": 38,
   "id": "4787af82",
   "metadata": {},
   "outputs": [],
   "source": [
    "#特征编码\n",
    "need_encode=['Gender','Profession','PaidSign','OtherCo','Position','ServicePosition','NativePlace','BirthPlace','University','Major','Funback','OveseaBack','Academic','FinBack','Nationality','TotalSalary']\n",
    "le=LabelEncoder()\n",
    "for i in need_encode:\n",
    "    df[i]=le.fit_transform(df[i])"
   ]
  },
  {
   "cell_type": "code",
   "execution_count": 39,
   "id": "653a0eab",
   "metadata": {},
   "outputs": [],
   "source": [
    "from sklearn.model_selection import train_test_split#训练集验证集划分\n",
    "import lightgbm as lgb#LightGBM模型"
   ]
  },
  {
   "cell_type": "code",
   "execution_count": 40,
   "id": "51462c84",
   "metadata": {},
   "outputs": [],
   "source": [
    "df=df[~df['TotalSalary'].isna()]#选出标签列不为空的行"
   ]
  },
  {
   "cell_type": "code",
   "execution_count": 41,
   "id": "be5ec0dd",
   "metadata": {},
   "outputs": [
    {
     "data": {
      "text/plain": [
       "(76244, 40)"
      ]
     },
     "execution_count": 41,
     "metadata": {},
     "output_type": "execute_result"
    }
   ],
   "source": [
    "df.shape"
   ]
  },
  {
   "cell_type": "code",
   "execution_count": 42,
   "id": "7d8953c9",
   "metadata": {},
   "outputs": [],
   "source": [
    "X=df[features]\n",
    "Y=df['TotalSalary']\n",
    "x_tr,x_val,y_tr,y_val=train_test_split(X,Y,test_size=0.3,random_state=2)#7：3随机划分训练集与验证集"
   ]
  },
  {
   "cell_type": "code",
   "execution_count": 43,
   "id": "28c8b726",
   "metadata": {},
   "outputs": [],
   "source": [
    "#训练参数\n",
    "params={\n",
    "            'boosting_type': 'gbdt',\n",
    "            'objective': 'regression',\n",
    "            'tree_learner':'serial',\n",
    "            'metric': 'rmse',\n",
    "            'num_boost_round':20000,\n",
    "    \n",
    "            'num_leaves': 2**8,\n",
    "            'max_depth': 15,\n",
    "            'max_bin': 75,\n",
    "            'feature_fraction': 1.0,\n",
    "            'bagging_fraction': 1.0,\n",
    "            'bagging_freq': 90,\n",
    "            'lambda_l1': 1e-05,\n",
    "            'lambda_l2': 1e-05,\n",
    "            'min_split_gain': 0.0,\n",
    "    \n",
    "            'learning_rate': 0.01,\n",
    "            'n_jobs':4,\n",
    "            'verbose': -1,\n",
    "}"
   ]
  },
  {
   "cell_type": "markdown",
   "id": "bad6e207",
   "metadata": {},
   "source": [
    "模型训练"
   ]
  },
  {
   "cell_type": "code",
   "execution_count": 44,
   "id": "62ce3c0f",
   "metadata": {},
   "outputs": [],
   "source": [
    "model=lgb.LGBMRegressor(**params)#定义模型"
   ]
  },
  {
   "cell_type": "code",
   "execution_count": 45,
   "id": "7e139fd5",
   "metadata": {},
   "outputs": [
    {
     "name": "stdout",
     "output_type": "stream",
     "text": [
      "[LightGBM] [Warning] feature_fraction is set=1.0, colsample_bytree=1.0 will be ignored. Current value: feature_fraction=1.0\n",
      "[LightGBM] [Warning] lambda_l1 is set=1e-05, reg_alpha=0.0 will be ignored. Current value: lambda_l1=1e-05\n",
      "[LightGBM] [Warning] bagging_fraction is set=1.0, subsample=1.0 will be ignored. Current value: bagging_fraction=1.0\n",
      "[LightGBM] [Warning] lambda_l2 is set=1e-05, reg_lambda=0.0 will be ignored. Current value: lambda_l2=1e-05\n",
      "[LightGBM] [Warning] bagging_freq is set=90, subsample_freq=0 will be ignored. Current value: bagging_freq=90\n",
      "[LightGBM] [Warning] num_iterations is set=20000, num_boost_round=20000 will be ignored. Current value: num_iterations=20000\n",
      "[200]\ttraining's rmse: 2395.8\tvalid_1's rmse: 2574.06\n",
      "[400]\ttraining's rmse: 2160.91\tvalid_1's rmse: 2459.52\n",
      "[600]\ttraining's rmse: 2049.43\tvalid_1's rmse: 2420.88\n",
      "[800]\ttraining's rmse: 1966.62\tvalid_1's rmse: 2397.32\n",
      "[1000]\ttraining's rmse: 1898.03\tvalid_1's rmse: 2379.34\n",
      "[1200]\ttraining's rmse: 1841.22\tvalid_1's rmse: 2366.01\n",
      "[1400]\ttraining's rmse: 1791.11\tvalid_1's rmse: 2355.04\n",
      "[1600]\ttraining's rmse: 1748.24\tvalid_1's rmse: 2347.17\n",
      "[1800]\ttraining's rmse: 1706.62\tvalid_1's rmse: 2340.51\n",
      "[2000]\ttraining's rmse: 1668.58\tvalid_1's rmse: 2333.87\n",
      "[2200]\ttraining's rmse: 1632.49\tvalid_1's rmse: 2328.11\n",
      "[2400]\ttraining's rmse: 1598.53\tvalid_1's rmse: 2322.48\n",
      "[2600]\ttraining's rmse: 1567.08\tvalid_1's rmse: 2317.72\n",
      "[2800]\ttraining's rmse: 1538.67\tvalid_1's rmse: 2314.32\n",
      "[3000]\ttraining's rmse: 1514.15\tvalid_1's rmse: 2310.72\n",
      "[3200]\ttraining's rmse: 1488.31\tvalid_1's rmse: 2308.54\n",
      "[3400]\ttraining's rmse: 1467.48\tvalid_1's rmse: 2306.72\n",
      "[3600]\ttraining's rmse: 1441.75\tvalid_1's rmse: 2304.34\n",
      "[3800]\ttraining's rmse: 1418.71\tvalid_1's rmse: 2302.07\n",
      "[4000]\ttraining's rmse: 1398.97\tvalid_1's rmse: 2300.29\n",
      "[4200]\ttraining's rmse: 1382.23\tvalid_1's rmse: 2298.48\n",
      "[4400]\ttraining's rmse: 1363.62\tvalid_1's rmse: 2297.54\n",
      "[4600]\ttraining's rmse: 1346.29\tvalid_1's rmse: 2297.16\n",
      "[4800]\ttraining's rmse: 1333.96\tvalid_1's rmse: 2296.6\n",
      "[5000]\ttraining's rmse: 1319.11\tvalid_1's rmse: 2296.2\n",
      "[5200]\ttraining's rmse: 1303.03\tvalid_1's rmse: 2295.51\n",
      "[5400]\ttraining's rmse: 1287.08\tvalid_1's rmse: 2294.89\n",
      "[5600]\ttraining's rmse: 1275.37\tvalid_1's rmse: 2294.41\n",
      "[5800]\ttraining's rmse: 1260.35\tvalid_1's rmse: 2293.83\n",
      "[6000]\ttraining's rmse: 1243.19\tvalid_1's rmse: 2293.24\n",
      "[6200]\ttraining's rmse: 1228.51\tvalid_1's rmse: 2292.84\n",
      "[6400]\ttraining's rmse: 1218.86\tvalid_1's rmse: 2292.51\n",
      "[6600]\ttraining's rmse: 1207.2\tvalid_1's rmse: 2292.28\n"
     ]
    },
    {
     "data": {
      "text/html": [
       "<style>#sk-container-id-6 {color: black;background-color: white;}#sk-container-id-6 pre{padding: 0;}#sk-container-id-6 div.sk-toggleable {background-color: white;}#sk-container-id-6 label.sk-toggleable__label {cursor: pointer;display: block;width: 100%;margin-bottom: 0;padding: 0.3em;box-sizing: border-box;text-align: center;}#sk-container-id-6 label.sk-toggleable__label-arrow:before {content: \"▸\";float: left;margin-right: 0.25em;color: #696969;}#sk-container-id-6 label.sk-toggleable__label-arrow:hover:before {color: black;}#sk-container-id-6 div.sk-estimator:hover label.sk-toggleable__label-arrow:before {color: black;}#sk-container-id-6 div.sk-toggleable__content {max-height: 0;max-width: 0;overflow: hidden;text-align: left;background-color: #f0f8ff;}#sk-container-id-6 div.sk-toggleable__content pre {margin: 0.2em;color: black;border-radius: 0.25em;background-color: #f0f8ff;}#sk-container-id-6 input.sk-toggleable__control:checked~div.sk-toggleable__content {max-height: 200px;max-width: 100%;overflow: auto;}#sk-container-id-6 input.sk-toggleable__control:checked~label.sk-toggleable__label-arrow:before {content: \"▾\";}#sk-container-id-6 div.sk-estimator input.sk-toggleable__control:checked~label.sk-toggleable__label {background-color: #d4ebff;}#sk-container-id-6 div.sk-label input.sk-toggleable__control:checked~label.sk-toggleable__label {background-color: #d4ebff;}#sk-container-id-6 input.sk-hidden--visually {border: 0;clip: rect(1px 1px 1px 1px);clip: rect(1px, 1px, 1px, 1px);height: 1px;margin: -1px;overflow: hidden;padding: 0;position: absolute;width: 1px;}#sk-container-id-6 div.sk-estimator {font-family: monospace;background-color: #f0f8ff;border: 1px dotted black;border-radius: 0.25em;box-sizing: border-box;margin-bottom: 0.5em;}#sk-container-id-6 div.sk-estimator:hover {background-color: #d4ebff;}#sk-container-id-6 div.sk-parallel-item::after {content: \"\";width: 100%;border-bottom: 1px solid gray;flex-grow: 1;}#sk-container-id-6 div.sk-label:hover label.sk-toggleable__label {background-color: #d4ebff;}#sk-container-id-6 div.sk-serial::before {content: \"\";position: absolute;border-left: 1px solid gray;box-sizing: border-box;top: 0;bottom: 0;left: 50%;z-index: 0;}#sk-container-id-6 div.sk-serial {display: flex;flex-direction: column;align-items: center;background-color: white;padding-right: 0.2em;padding-left: 0.2em;position: relative;}#sk-container-id-6 div.sk-item {position: relative;z-index: 1;}#sk-container-id-6 div.sk-parallel {display: flex;align-items: stretch;justify-content: center;background-color: white;position: relative;}#sk-container-id-6 div.sk-item::before, #sk-container-id-6 div.sk-parallel-item::before {content: \"\";position: absolute;border-left: 1px solid gray;box-sizing: border-box;top: 0;bottom: 0;left: 50%;z-index: -1;}#sk-container-id-6 div.sk-parallel-item {display: flex;flex-direction: column;z-index: 1;position: relative;background-color: white;}#sk-container-id-6 div.sk-parallel-item:first-child::after {align-self: flex-end;width: 50%;}#sk-container-id-6 div.sk-parallel-item:last-child::after {align-self: flex-start;width: 50%;}#sk-container-id-6 div.sk-parallel-item:only-child::after {width: 0;}#sk-container-id-6 div.sk-dashed-wrapped {border: 1px dashed gray;margin: 0 0.4em 0.5em 0.4em;box-sizing: border-box;padding-bottom: 0.4em;background-color: white;}#sk-container-id-6 div.sk-label label {font-family: monospace;font-weight: bold;display: inline-block;line-height: 1.2em;}#sk-container-id-6 div.sk-label-container {text-align: center;}#sk-container-id-6 div.sk-container {/* jupyter's `normalize.less` sets `[hidden] { display: none; }` but bootstrap.min.css set `[hidden] { display: none !important; }` so we also need the `!important` here to be able to override the default hidden behavior on the sphinx rendered scikit-learn.org. See: https://github.com/scikit-learn/scikit-learn/issues/21755 */display: inline-block !important;position: relative;}#sk-container-id-6 div.sk-text-repr-fallback {display: none;}</style><div id=\"sk-container-id-6\" class=\"sk-top-container\"><div class=\"sk-text-repr-fallback\"><pre>LGBMRegressor(bagging_fraction=1.0, bagging_freq=90, feature_fraction=1.0,\n",
       "              lambda_l1=1e-05, lambda_l2=1e-05, learning_rate=0.01, max_bin=75,\n",
       "              max_depth=15, metric=&#x27;rmse&#x27;, n_jobs=4, num_boost_round=20000,\n",
       "              num_leaves=256, objective=&#x27;regression&#x27;, tree_learner=&#x27;serial&#x27;,\n",
       "              verbose=-1)</pre><b>In a Jupyter environment, please rerun this cell to show the HTML representation or trust the notebook. <br />On GitHub, the HTML representation is unable to render, please try loading this page with nbviewer.org.</b></div><div class=\"sk-container\" hidden><div class=\"sk-item\"><div class=\"sk-estimator sk-toggleable\"><input class=\"sk-toggleable__control sk-hidden--visually\" id=\"sk-estimator-id-6\" type=\"checkbox\" checked><label for=\"sk-estimator-id-6\" class=\"sk-toggleable__label sk-toggleable__label-arrow\">LGBMRegressor</label><div class=\"sk-toggleable__content\"><pre>LGBMRegressor(bagging_fraction=1.0, bagging_freq=90, feature_fraction=1.0,\n",
       "              lambda_l1=1e-05, lambda_l2=1e-05, learning_rate=0.01, max_bin=75,\n",
       "              max_depth=15, metric=&#x27;rmse&#x27;, n_jobs=4, num_boost_round=20000,\n",
       "              num_leaves=256, objective=&#x27;regression&#x27;, tree_learner=&#x27;serial&#x27;,\n",
       "              verbose=-1)</pre></div></div></div></div></div>"
      ],
      "text/plain": [
       "LGBMRegressor(bagging_fraction=1.0, bagging_freq=90, feature_fraction=1.0,\n",
       "              lambda_l1=1e-05, lambda_l2=1e-05, learning_rate=0.01, max_bin=75,\n",
       "              max_depth=15, metric='rmse', n_jobs=4, num_boost_round=20000,\n",
       "              num_leaves=256, objective='regression', tree_learner='serial',\n",
       "              verbose=-1)"
      ]
     },
     "execution_count": 45,
     "metadata": {},
     "output_type": "execute_result"
    }
   ],
   "source": [
    "#模型训练\n",
    "model.fit(x_tr,y_tr,\n",
    "         eval_set=[(x_tr, y_tr), (x_val, y_val)],#模型评估\n",
    "              eval_metric='rmse',#rmse\n",
    "              verbose=200, #每200轮输出信息\n",
    "              early_stopping_rounds=200)#若200轮没提升就停止，防止过拟合"
   ]
  },
  {
   "cell_type": "code",
   "execution_count": 46,
   "id": "4f33c316",
   "metadata": {},
   "outputs": [
    {
     "data": {
      "text/plain": [
       "0.7052606306551032"
      ]
     },
     "execution_count": 46,
     "metadata": {},
     "output_type": "execute_result"
    }
   ],
   "source": [
    "model.score(x_val,y_val)#R^2分数"
   ]
  },
  {
   "cell_type": "code",
   "execution_count": 15,
   "id": "58ca7728",
   "metadata": {},
   "outputs": [],
   "source": [
    "lgb_feat_imp = pd.Series(model.feature_importances_, [i for i in X[features].columns]).sort_values(ascending=False)#特征重要性"
   ]
  },
  {
   "cell_type": "code",
   "execution_count": 16,
   "id": "a54d1a67",
   "metadata": {},
   "outputs": [
    {
     "data": {
      "text/plain": [
       "SharEnd            95013\n",
       "Age                93416\n",
       "Funback            66706\n",
       "Position           59829\n",
       "Director_TotCO     48647\n",
       "Degree             42353\n",
       "ServicePosition    38664\n",
       "University         37903\n",
       "Major              37020\n",
       "Profession         28729\n",
       "TMTP               15743\n",
       "OtherCo            14674\n",
       "OveseaBack         14293\n",
       "Allowance          14018\n",
       "Academic           12973\n",
       "NativePlace        11573\n",
       "CTB                10080\n",
       "IsMTMT              7678\n",
       "PaidSign            6763\n",
       "OtherCoType         6120\n",
       "Gender              6048\n",
       "FinBack             4764\n",
       "IsMTB               4190\n",
       "BirthPlace          3002\n",
       "Director_ListCO     2835\n",
       "IsCocurP            2459\n",
       "IsSupervisor        2075\n",
       "IsDuality           1453\n",
       "IsIdirecotr          238\n",
       "dtype: int32"
      ]
     },
     "execution_count": 16,
     "metadata": {},
     "output_type": "execute_result"
    }
   ],
   "source": [
    "lgb_feat_imp#特征重要性"
   ]
  },
  {
   "cell_type": "code",
   "execution_count": 17,
   "id": "43670066",
   "metadata": {},
   "outputs": [
    {
     "data": {
      "text/plain": [
       "<BarContainer object of 15 artists>"
      ]
     },
     "execution_count": 17,
     "metadata": {},
     "output_type": "execute_result"
    },
    {
     "data": {
      "image/png": "[encoded data removed]",
      "text/plain": [
       "<Figure size 1440x360 with 1 Axes>"
      ]
     },
     "metadata": {
      "needs_background": "light"
     },
     "output_type": "display_data"
    }
   ],
   "source": [
    "plt.figure(figsize=(20,5))#特征重要性可视化\n",
    "plt.bar(x=lgb_feat_imp[:15].index,height=lgb_feat_imp[:15].values)"
   ]
  },
  {
   "cell_type": "code",
   "execution_count": 47,
   "id": "de9d05dd",
   "metadata": {},
   "outputs": [],
   "source": [
    "prediction=model.predict(x_val)"
   ]
  },
  {
   "cell_type": "code",
   "execution_count": 52,
   "id": "31c99d2d",
   "metadata": {},
   "outputs": [
    {
     "data": {
      "text/plain": [
       "<AxesSubplot:ylabel='TotalSalary'>"
      ]
     },
     "execution_count": 52,
     "metadata": {},
     "output_type": "execute_result"
    },
    {
     "data": {
      "image/png": "[encoded data removed]",
      "text/plain": [
       "<Figure size 432x288 with 1 Axes>"
      ]
     },
     "metadata": {
      "needs_background": "light"
     },
     "output_type": "display_data"
    }
   ],
   "source": [
    "#拟合效果散点图\n",
    "sns.scatterplot(range(len(prediction[:20])),prediction[:20])\n",
    "sns.scatterplot(range(len(y_val[:20])),y_val[:20])"
   ]
  },
  {
   "cell_type": "code",
   "execution_count": 59,
   "id": "a9b37dda",
   "metadata": {},
   "outputs": [
    {
     "data": {
      "text/plain": [
       "<AxesSubplot:>"
      ]
     },
     "execution_count": 59,
     "metadata": {},
     "output_type": "execute_result"
    },
    {
     "data": {
      "image/png": "[encoded data removed]",
      "text/plain": [
       "<Figure size 432x288 with 2 Axes>"
      ]
     },
     "metadata": {
      "needs_background": "light"
     },
     "output_type": "display_data"
    }
   ],
   "source": [
    "sns.heatmap(df[features].corr(method='spearman'),cmap=\"YlGnBu\")"
   ]
  },
  {
   "cell_type": "code",
   "execution_count": null,
   "id": "5efb31d2",
   "metadata": {},
   "outputs": [],
   "source": []
  },
  {
   "cell_type": "code",
   "execution_count": null,
   "id": "48845b88",
   "metadata": {},
   "outputs": [],
   "source": []
  }
 ],
 "metadata": {
  "kernelspec": {
   "display_name": "Python 3 (ipykernel)",
   "language": "python",
   "name": "python3"
  },
  "language_info": {
   "codemirror_mode": {
    "name": "ipython",
    "version": 3
   },
   "file_extension": ".py",
   "mimetype": "text/x-python",
   "name": "python",
   "nbconvert_exporter": "python",
   "pygments_lexer": "ipython3",
   "version": "3.8.8"
  }
 },
 "nbformat": 4,
 "nbformat_minor": 5
}
